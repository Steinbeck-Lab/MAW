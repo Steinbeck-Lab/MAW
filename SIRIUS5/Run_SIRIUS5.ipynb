{
 "cells": [
  {
   "cell_type": "code",
   "execution_count": 8,
   "id": "570e6737",
   "metadata": {},
   "outputs": [],
   "source": [
    "library(stringr)\n",
    "library(readr)\n",
    "library(dplyr)"
   ]
  },
  {
   "cell_type": "code",
   "execution_count": 14,
   "id": "d14a5906",
   "metadata": {},
   "outputs": [
    {
     "data": {
      "text/html": [
       "'/Users/mahnoorzulfiqar/OneDriveUNI/GitHub-Repos/MAW/SIRIUS5/data'"
      ],
      "text/latex": [
       "'/Users/mahnoorzulfiqar/OneDriveUNI/GitHub-Repos/MAW/SIRIUS5/data'"
      ],
      "text/markdown": [
       "'/Users/mahnoorzulfiqar/OneDriveUNI/GitHub-Repos/MAW/SIRIUS5/data'"
      ],
      "text/plain": [
       "[1] \"/Users/mahnoorzulfiqar/OneDriveUNI/GitHub-Repos/MAW/SIRIUS5/data\""
      ]
     },
     "metadata": {},
     "output_type": "display_data"
    }
   ],
   "source": [
    "start.time <- Sys.time()\n",
    "\n",
    "# ---------- Script ----------\n",
    "# input directory\n",
    "input_dir <- paste(getwd(), \"/data\", sep = \"\")\n",
    "input_dir"
   ]
  },
  {
   "cell_type": "code",
   "execution_count": 28,
   "id": "cd89ed92",
   "metadata": {},
   "outputs": [],
   "source": [
    "run_sirius <- function(files, ppm_max = 5, ppm_max_ms2 = 15, QC = TRUE, SL = TRUE, SL_path, candidates = 30, profile, db){\n",
    "    files <- read.csv(files, sep = \"\\t\")\n",
    "\n",
    "    for (b in 1:nrow(files)){\n",
    "\n",
    "        if (QC){\n",
    "            if (is.na(files[b, \"isotopes\"])){\n",
    "                system(paste(\"sirius --input\", files[b, \"sirius_param_file\"], \"--output\", files[b, \"outputNames\"],\n",
    "                             \"formula --profile\", profile, \"--no-isotope-filter --no-isotope-score --candidates\", candidates, \"--ppm-max\", ppm_max, \"--ppm-max-ms2\",  ppm_max_ms2,\"fingerprint structure --database\", db ,\"canopus\",\n",
    "                             sep = \" \"))\n",
    "                if(!file.exists(files[b, \"outputNames\"])){\n",
    "                    system(paste(\"sirius --input\", files[b, \"sirius_param_file\"], \"--output\", files[b, \"outputNames\"],\n",
    "                                 \"formula --profile\", profile, \"--no-isotope-filter --no-isotope-score --candidates\", candidates, \"--ppm-max\", ppm_max, \"--ppm-max-ms2\",  ppm_max_ms2,\"fingerprint structure --database\", db ,\"canopus\",\n",
    "                                 sep = \" \"))\n",
    "                }\n",
    "                if(SL){\n",
    "                    system(paste(\"sirius --input\", files[b, \"sirius_param_file\"], \"--output\", files[b, \"outputNamesSL\"],\n",
    "                             \"formula --profile\", profile, \"--no-isotope-filter --no-isotope-score --candidates\", candidates, \"--ppm-max\", ppm_max, \"--ppm-max-ms2\",  ppm_max_ms2,\"fingerprint structure --database\",  SL_path ,\"canopus\",\n",
    "                             sep = \" \"))\n",
    "                }\n",
    "\n",
    "            }\n",
    "            else if(files[b, \"isotopes\"] == \"present\"){\n",
    "                system(paste(\"sirius --input\", files[b, \"sirius_param_file\"], \"--output\", files[b, \"outputNames\"],\n",
    "                             \"formula --profile\", profile, \"--candidates\", candidates, \"--ppm-max\", ppm_max,\"--ppm-max-ms2\", ppm_max_ms2,\"fingerprint structure --database\", db ,\"canopus\",\n",
    "                             sep = \" \"))\n",
    "                if(!file.exists(files[b, \"outputNames\"])){\n",
    "                     system(paste(\"sirius --input\", files[b, \"sirius_param_file\"], \"--output\", files[b, \"outputNames\"],\n",
    "                                 \"formula --profile\", profile, \"--candidates\", candidates, \"--ppm-max\", ppm_max,\"--ppm-max-ms2\", ppm_max_ms2,\"fingerprint structure --database\", db ,\"canopus\",\n",
    "                                 sep = \" \"))\n",
    "                }\n",
    "                if(SL){\n",
    "                    system(paste(\"sirius --input\", files[b, \"sirius_param_file\"], \"--output\", files[b, \"outputNamesSL\"],\n",
    "                             \"formula --profile\", profile, \"--candidates\", candidates, \"--ppm-max\", ppm_max, \"--ppm-max-ms2\",  ppm_max_ms2,\"fingerprint structure --database\",  SL_path ,\"canopus\",\n",
    "                             sep = \" \"))\n",
    "                }\n",
    "            }\n",
    "        }\n",
    "        else{\n",
    "            system(paste(\"sirius --input\", files[b, \"sirius_param_file\"], \"--output\", files[b, \"outputNames\"],\n",
    "                        \"formula --profile\", profile, \"--no-isotope-filter --no-isotope-score --candidates\", candidates, \"--ppm-max\", ppm_max, \"--ppm-max-ms2\",  ppm_max_ms2,\"fingerprint structure --database\", db ,\"canopus\",\n",
    "                        sep = \" \"))\n",
    "            if(!file.exists(files[b, \"outputNames\"])){\n",
    "                system(paste(\"sirius --input\", files[b, \"sirius_param_file\"], \"--output\", files[b, \"outputNames\"],\n",
    "                             \"formula --profile\", profile, \"--no-isotope-filter --no-isotope-score --candidates\", candidates, \"--ppm-max\", ppm_max, \"--ppm-max-ms2\",  ppm_max_ms2,\"fingerprint structure --database\", db ,\"canopus\",\n",
    "                             sep = \" \"))\n",
    "            }\n",
    "            if(SL){\n",
    "                system(paste(\"sirius --input\", files[b, \"sirius_param_file\"], \"--output\", files[b, \"outputNamesSL\"],\n",
    "                            \"formula --profile\", profile, \"--no-isotope-filter --no-isotope-score --candidates\", candidates, \"--ppm-max\", ppm_max, \"--ppm-max-ms2\",  ppm_max_ms2,\"fingerprint structure --database\",  SL_path ,\"canopus\",\n",
    "                            sep = \" \"))\n",
    "            }\n",
    "        }\n",
    "        Sys.sleep(5)\n",
    "\n",
    "    }\n",
    "\n",
    "}\n"
   ]
  },
  {
   "cell_type": "code",
   "execution_count": null,
   "id": "0e4bed36",
   "metadata": {},
   "outputs": [],
   "source": []
  },
  {
   "cell_type": "code",
   "execution_count": null,
   "id": "1bb464f4",
   "metadata": {},
   "outputs": [],
   "source": []
  },
  {
   "cell_type": "code",
   "execution_count": 29,
   "id": "8da82e98",
   "metadata": {},
   "outputs": [],
   "source": [
    "# please change parameters according to your experiment"
   ]
  },
  {
   "cell_type": "code",
   "execution_count": 31,
   "id": "9001ce43",
   "metadata": {},
   "outputs": [
    {
     "name": "stderr",
     "output_type": "stream",
     "text": [
      "Warning message in read.table(file = file, header = header, sep = sep, quote = quote, :\n",
      "“unvollständige letzte Zeile von readTableHeader in './insilico/MS1DATA_SiriusP.tsv' gefunden”\n"
     ]
    }
   ],
   "source": [
    "run_sirius(files= './insilico/MS1DATA_SiriusP.tsv',\n",
    "           ppm_max = 5, \n",
    "           ppm_max_ms2 = 15, \n",
    "           QC = FALSE, \n",
    "           SL = FALSE, \n",
    "           SL_path = NA, \n",
    "           candidates = 30, \n",
    "           profile = \"orbitrap\", \n",
    "           db = \"coconut\")"
   ]
  },
  {
   "cell_type": "code",
   "execution_count": null,
   "id": "1bc70a57",
   "metadata": {},
   "outputs": [],
   "source": []
  }
 ],
 "metadata": {
  "kernelspec": {
   "display_name": "R",
   "language": "R",
   "name": "ir"
  },
  "language_info": {
   "codemirror_mode": "r",
   "file_extension": ".r",
   "mimetype": "text/x-r-source",
   "name": "R",
   "pygments_lexer": "r",
   "version": "4.2.0"
  }
 },
 "nbformat": 4,
 "nbformat_minor": 5
}
