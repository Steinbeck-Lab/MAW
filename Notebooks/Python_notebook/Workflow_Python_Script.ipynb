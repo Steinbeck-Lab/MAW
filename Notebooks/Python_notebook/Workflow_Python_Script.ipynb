{
 "cells": [
  {
   "cell_type": "code",
   "execution_count": 1,
   "id": "7347def9",
   "metadata": {
    "collapsed": true
   },
   "outputs": [
    {
     "ename": "ModuleNotFoundError",
     "evalue": "No module named 'Workflow_Python_Functions'",
     "output_type": "error",
     "traceback": [
      "\u001b[0;31m---------------------------------------------------------------------------\u001b[0m",
      "\u001b[0;31mModuleNotFoundError\u001b[0m                       Traceback (most recent call last)",
      "Input \u001b[0;32mIn [1]\u001b[0m, in \u001b[0;36m<module>\u001b[0;34m\u001b[0m\n\u001b[1;32m      1\u001b[0m \u001b[38;5;66;03m# import the function file\u001b[39;00m\n\u001b[0;32m----> 2\u001b[0m \u001b[38;5;28;01mfrom\u001b[39;00m \u001b[38;5;21;01mWorkflow_Python_Functions\u001b[39;00m \u001b[38;5;28;01mimport\u001b[39;00m \u001b[38;5;241m*\u001b[39m\n",
      "\u001b[0;31mModuleNotFoundError\u001b[0m: No module named 'Workflow_Python_Functions'"
     ]
    }
   ],
   "source": [
    "# import the function file\n",
    "from Workflow_Python_Functions import *"
   ]
  },
  {
   "cell_type": "code",
   "execution_count": null,
   "id": "87b67fbb",
   "metadata": {},
   "outputs": [],
   "source": [
    "#Define input directory, keep all files in same directory and scripts so getwd works\n",
    "input_dir = os.getwd()+\"/data\"\n",
    "input_dir"
   ]
  },
  {
   "cell_type": "code",
   "execution_count": null,
   "id": "dbb66299",
   "metadata": {},
   "outputs": [],
   "source": [
    "spec_postproc(input_dir, Source = \"all\")"
   ]
  },
  {
   "cell_type": "code",
   "execution_count": null,
   "id": "a4fbc3d8",
   "metadata": {},
   "outputs": [],
   "source": [
    "MCSS_for_SpecDB(input_dir, Source = \"all\")"
   ]
  },
  {
   "cell_type": "code",
   "execution_count": null,
   "id": "1343f546",
   "metadata": {},
   "outputs": [],
   "source": [
    "sirius_postproc(input_dir)"
   ]
  },
  {
   "cell_type": "code",
   "execution_count": null,
   "id": "40902262",
   "metadata": {},
   "outputs": [],
   "source": [
    "MCSS_for_SIRIUS(input_dir)    "
   ]
  },
  {
   "cell_type": "code",
   "execution_count": null,
   "id": "871df0c1",
   "metadata": {},
   "outputs": [],
   "source": [
    "CandidateSelection_SimilarityandIdentity(input_dir, standards = False)"
   ]
  },
  {
   "cell_type": "code",
   "execution_count": null,
   "id": "a706a408",
   "metadata": {},
   "outputs": [],
   "source": [
    "merge_all_results(input_dir)"
   ]
  },
  {
   "cell_type": "code",
   "execution_count": null,
   "id": "35ffb259",
   "metadata": {},
   "outputs": [],
   "source": [
    "#classification(input_dir, resultcsv = input_dir + \"/final_candidates.csv\")"
   ]
  }
 ],
 "metadata": {
  "kernelspec": {
   "display_name": "Python (mawRpy)",
   "language": "python",
   "name": "mawrpy"
  },
  "language_info": {
   "codemirror_mode": {
    "name": "ipython",
    "version": 3
   },
   "file_extension": ".py",
   "mimetype": "text/x-python",
   "name": "python",
   "nbconvert_exporter": "python",
   "pygments_lexer": "ipython3",
   "version": "3.10.2"
  }
 },
 "nbformat": 4,
 "nbformat_minor": 5
}
